{
 "cells": [
  {
   "cell_type": "markdown",
   "metadata": {},
   "source": [
    "### 템플릿은 문자열을 포멧팅하는 방법 중 하나이다."
   ]
  },
  {
   "cell_type": "code",
   "execution_count": 8,
   "metadata": {},
   "outputs": [],
   "source": [
    "from string import Template"
   ]
  },
  {
   "cell_type": "markdown",
   "metadata": {},
   "source": [
    "**format을 사용한 문자열 포맷팅**"
   ]
  },
  {
   "cell_type": "code",
   "execution_count": 9,
   "metadata": {},
   "outputs": [
    {
     "name": "stdout",
     "output_type": "stream",
     "text": [
      "You're watching Advanced Python by Joe Marini\n"
     ]
    }
   ],
   "source": [
    "str1 = \"You're watching {0} by {1}\".format(\"Advanced Python\", \"Joe Marini\")\n",
    "print(str1)"
   ]
  },
  {
   "cell_type": "markdown",
   "metadata": {},
   "source": [
    "**템플릿 생성**"
   ]
  },
  {
   "cell_type": "code",
   "execution_count": 10,
   "metadata": {},
   "outputs": [],
   "source": [
    "templ = Template(\"You're watching ${title} by ${author}\")"
   ]
  },
  {
   "cell_type": "markdown",
   "metadata": {},
   "source": [
    "**키워드 인자를 통해 substitute 메서드 사용**"
   ]
  },
  {
   "cell_type": "code",
   "execution_count": 11,
   "metadata": {},
   "outputs": [
    {
     "name": "stdout",
     "output_type": "stream",
     "text": [
      "You're watching Advanced Python by Joe Marini\n"
     ]
    }
   ],
   "source": [
    "str2 = templ.substitute(title=\"Advanced Python\", author=\"Joe Marini\")\n",
    "print(str2)"
   ]
  },
  {
   "cell_type": "markdown",
   "metadata": {},
   "source": [
    "**사전을 통해 substitute 메서드 사용**"
   ]
  },
  {
   "cell_type": "code",
   "execution_count": 12,
   "metadata": {},
   "outputs": [
    {
     "name": "stdout",
     "output_type": "stream",
     "text": [
      "You're watching Advanced Python by Joe Marini\n"
     ]
    }
   ],
   "source": [
    "data = { \n",
    "    \"author\": \"Joe Marini\",\n",
    "    \"title\": \"Advanced Python\"\n",
    "}\n",
    "str3 = templ.substitute(data)    \n",
    "print(str3)    "
   ]
  },
  {
   "cell_type": "markdown",
   "metadata": {},
   "source": [
    "**왠만한 경우가 아니라면 그냥 format을 사용하는 것이 더 편할 것 같다.**"
   ]
  },
  {
   "cell_type": "code",
   "execution_count": null,
   "metadata": {},
   "outputs": [],
   "source": []
  }
 ],
 "metadata": {
  "kernelspec": {
   "display_name": "Python 3",
   "language": "python",
   "name": "python3"
  },
  "language_info": {
   "codemirror_mode": {
    "name": "ipython",
    "version": 3
   },
   "file_extension": ".py",
   "mimetype": "text/x-python",
   "name": "python",
   "nbconvert_exporter": "python",
   "pygments_lexer": "ipython3",
   "version": "3.6.8"
  }
 },
 "nbformat": 4,
 "nbformat_minor": 2
}
