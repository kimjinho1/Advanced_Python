{
 "cells": [
  {
   "cell_type": "code",
   "execution_count": 14,
   "metadata": {},
   "outputs": [],
   "source": [
    "# 항상 파일의 맨 위에 import 문을 놓는다.\n",
    "import sys\n",
    "import os\n",
    "\n",
    "\n",
    "# 함수와 클래수는 빈 줄 두개, 매서드는 빈 줄 하나로 구분한다.\n",
    "class MyClass():\n",
    "    def __init__(self):\n",
    "        self.prop1 = \"my class\"\n",
    "\n",
    "    def method1(self, arg1):\n",
    "        pass\n",
    "    \n",
    "    \n",
    "# 한 줄의 문자 길이는 79자 이하여야 한다.\n",
    "def main():\n",
    "    # Long comments, like this one that flow across several lines, are\n",
    "    # limited to 72 characters instead of 79 for lines of code.\n",
    "    cls1 = MyClass()\n",
    "    cls1.prop1 = \"hello world\"\n",
    "    \n",
    "    \n",
    "if __name__ == \"__main__\":\n",
    "    main()"
   ]
  },
  {
   "cell_type": "markdown",
   "metadata": {},
   "source": [
    "**이 외에도 한 줄로 된 if 문, for, while loop, except 복합문을 쓰지 않는다거나  \n",
    "들여쓰기는 space 4번을 이용한다거나 등등 다양한 가이드가 있다.  \n",
    "자세한 건 https://www.python.org/dev/peps/pep-0008/ 를 참고하자.**"
   ]
  },
  {
   "cell_type": "markdown",
   "metadata": {},
   "source": [
    "**주피터 노트북(ipynb 파일)을 사용하는 사람들은 아래와 같은 방식으로   \n",
    "함수와 클래스가 나누어져 있을 확률이 높기 때문에 파이참이나 리눅스를  \n",
    "사용하는 사람보다는 조금 더 편할지도 모르겠다.**"
   ]
  },
  {
   "cell_type": "markdown",
   "metadata": {},
   "source": [
    "------------------------------------------------------------------------------"
   ]
  },
  {
   "cell_type": "markdown",
   "metadata": {},
   "source": [
    "**항상 파일의 맨 위에 import 문을 놓는다.**"
   ]
  },
  {
   "cell_type": "code",
   "execution_count": 15,
   "metadata": {},
   "outputs": [],
   "source": [
    "import sys\n",
    "import os"
   ]
  },
  {
   "cell_type": "markdown",
   "metadata": {},
   "source": [
    "**함수와 클래수는 빈 줄 두개, 매서드는 빈 줄 하나로 구분한다.**"
   ]
  },
  {
   "cell_type": "code",
   "execution_count": 16,
   "metadata": {},
   "outputs": [],
   "source": [
    "class MyClass():\n",
    "    def __init__(self):\n",
    "        self.prop1 = \"my class\"\n",
    "\n",
    "    # 매서드는 빈 줄 하나로 구분한다.\n",
    "    def method1(self, arg1):\n",
    "        pass"
   ]
  },
  {
   "cell_type": "markdown",
   "metadata": {},
   "source": [
    "**한 줄의 문자 길이는 79자 이하여야 한다.**"
   ]
  },
  {
   "cell_type": "code",
   "execution_count": 17,
   "metadata": {},
   "outputs": [],
   "source": [
    "# Long comments, like this one that flow across several lines, are\n",
    "# limited to 72 characters instead of 79 for lines of code.\n",
    "cls1 = MyClass()\n",
    "cls1.prop1 = \"hello world\""
   ]
  },
  {
   "cell_type": "code",
   "execution_count": null,
   "metadata": {},
   "outputs": [],
   "source": []
  }
 ],
 "metadata": {
  "kernelspec": {
   "display_name": "Python 3",
   "language": "python",
   "name": "python3"
  },
  "language_info": {
   "codemirror_mode": {
    "name": "ipython",
    "version": 3
   },
   "file_extension": ".py",
   "mimetype": "text/x-python",
   "name": "python",
   "nbconvert_exporter": "python",
   "pygments_lexer": "ipython3",
   "version": "3.6.8"
  }
 },
 "nbformat": 4,
 "nbformat_minor": 2
}
