{
 "cells": [
  {
   "cell_type": "markdown",
   "metadata": {},
   "source": [
    "#### 거짓(false): False, 0, 0.0, 0j, '', (), [], {}, set(), range(0) 등등  \n",
    "#### 참(true): True, 1, 2, 'abc', (3,4,5), [6,7], range(8) 등등"
   ]
  },
  {
   "cell_type": "code",
   "execution_count": 75,
   "metadata": {},
   "outputs": [],
   "source": [
    "False_list = [False, 0, 0.0, 0j, '', (), [], {}, set(), range(0)]\n",
    "True_list = [True, 1, 2, 'abc', (3,4,5), [6,7], range(8)]"
   ]
  },
  {
   "cell_type": "code",
   "execution_count": 85,
   "metadata": {},
   "outputs": [],
   "source": [
    "def value_testing(li):\n",
    "    \"\"\"리스트 값들이 참인지 거짓인지 출력해주는 함수이다.\"\"\"\n",
    "    for value in li:\n",
    "        print('{0} is {1}'.format(value, bool(value)))"
   ]
  },
  {
   "cell_type": "code",
   "execution_count": 86,
   "metadata": {},
   "outputs": [
    {
     "name": "stdout",
     "output_type": "stream",
     "text": [
      "리스트 값들이 참인지 거짓인지 출력해주는 함수이다.\n"
     ]
    }
   ],
   "source": [
    "print(value_testing.__doc__)"
   ]
  },
  {
   "cell_type": "code",
   "execution_count": 87,
   "metadata": {},
   "outputs": [
    {
     "name": "stdout",
     "output_type": "stream",
     "text": [
      "False is False\n",
      "0 is False\n",
      "0.0 is False\n",
      "0j is False\n",
      " is False\n",
      "() is False\n",
      "[] is False\n",
      "{} is False\n",
      "set() is False\n",
      "range(0, 0) is False\n",
      "\n",
      "True is True\n",
      "1 is True\n",
      "2 is True\n",
      "abc is True\n",
      "(3, 4, 5) is True\n",
      "[6, 7] is True\n",
      "range(0, 8) is True\n"
     ]
    }
   ],
   "source": [
    "value_testing(False_list) # 모두 거짓임을 확인 할 수 있음.\n",
    "print()\n",
    "value_testing(True_list) # 모두 참임을 확인 할 수 있음."
   ]
  },
  {
   "cell_type": "code",
   "execution_count": null,
   "metadata": {},
   "outputs": [],
   "source": []
  },
  {
   "cell_type": "code",
   "execution_count": null,
   "metadata": {},
   "outputs": [],
   "source": []
  }
 ],
 "metadata": {
  "kernelspec": {
   "display_name": "Python 3",
   "language": "python",
   "name": "python3"
  },
  "language_info": {
   "codemirror_mode": {
    "name": "ipython",
    "version": 3
   },
   "file_extension": ".py",
   "mimetype": "text/x-python",
   "name": "python",
   "nbconvert_exporter": "python",
   "pygments_lexer": "ipython3",
   "version": "3.6.8"
  }
 },
 "nbformat": 4,
 "nbformat_minor": 2
}
