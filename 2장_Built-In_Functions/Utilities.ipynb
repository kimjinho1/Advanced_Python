{
 "cells": [
  {
   "cell_type": "markdown",
   "metadata": {},
   "source": [
    "### 파이썬에는 수많은 유용한 내장 함수들이 존재한다."
   ]
  },
  {
   "cell_type": "markdown",
   "metadata": {},
   "source": [
    "**bool 함수가 말고도 인자가 True일 경우 True를 리턴해주는 all,  \n",
    "False일 경우 True를 리턴해주는 any 함수가 존재한다.**"
   ]
  },
  {
   "cell_type": "code",
   "execution_count": 5,
   "metadata": {},
   "outputs": [
    {
     "name": "stdout",
     "output_type": "stream",
     "text": [
      "True\n",
      "False\n"
     ]
    }
   ],
   "source": [
    "list1 = [1, 2, 3, 0, 5, 6]\n",
    "\n",
    "print(any(list1))\n",
    "print(all(list1))"
   ]
  },
  {
   "cell_type": "markdown",
   "metadata": {},
   "source": [
    "**min과 max 함수는 시퀸스에서 최솟값과 최댓값을 리턴해준다.**"
   ]
  },
  {
   "cell_type": "code",
   "execution_count": 6,
   "metadata": {},
   "outputs": [
    {
     "name": "stdout",
     "output_type": "stream",
     "text": [
      "min:  0\n",
      "max:  6\n"
     ]
    }
   ],
   "source": [
    "print(\"min: \", min(list1))\n",
    "print(\"max: \", max(list1))    "
   ]
  },
  {
   "cell_type": "markdown",
   "metadata": {},
   "source": [
    "**sum 함수는 시퀸스의 합을 리턴해준다.**"
   ]
  },
  {
   "cell_type": "code",
   "execution_count": 7,
   "metadata": {},
   "outputs": [
    {
     "name": "stdout",
     "output_type": "stream",
     "text": [
      "sum:  17\n"
     ]
    }
   ],
   "source": [
    "print(\"sum: \", sum(list1))"
   ]
  },
  {
   "cell_type": "markdown",
   "metadata": {},
   "source": [
    "**간단한 함수의 경우 거의 다 내장되어있기 때문에 함수를 새로 만들기 전에 내가   \n",
    "원하는 기능을 수행해주는 내장 함수가 있는지 한 번 정도는 확인해보는 것이 좋다.     \n",
    "다른 사람들이 만들어 놓은 것들을 편하게 사용하도록 하자!**"
   ]
  },
  {
   "cell_type": "code",
   "execution_count": null,
   "metadata": {},
   "outputs": [],
   "source": []
  }
 ],
 "metadata": {
  "kernelspec": {
   "display_name": "Python 3",
   "language": "python",
   "name": "python3"
  },
  "language_info": {
   "codemirror_mode": {
    "name": "ipython",
    "version": 3
   },
   "file_extension": ".py",
   "mimetype": "text/x-python",
   "name": "python",
   "nbconvert_exporter": "python",
   "pygments_lexer": "ipython3",
   "version": "3.6.8"
  }
 },
 "nbformat": 4,
 "nbformat_minor": 2
}
