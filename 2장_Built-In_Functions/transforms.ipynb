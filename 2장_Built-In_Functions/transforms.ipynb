{
 "cells": [
  {
   "cell_type": "code",
   "execution_count": 12,
   "metadata": {},
   "outputs": [],
   "source": [
    "def filterFunc(x):\n",
    "    if x % 2 == 0:\n",
    "        return False\n",
    "    return True"
   ]
  },
  {
   "cell_type": "code",
   "execution_count": 13,
   "metadata": {},
   "outputs": [],
   "source": [
    "def filterFunc2(x):\n",
    "    if x.isupper():\n",
    "        return False\n",
    "    return True"
   ]
  },
  {
   "cell_type": "code",
   "execution_count": 14,
   "metadata": {},
   "outputs": [],
   "source": [
    "def squareFunc(x):\n",
    "    return x**2"
   ]
  },
  {
   "cell_type": "code",
   "execution_count": 15,
   "metadata": {},
   "outputs": [],
   "source": [
    "def toGrade(x):\n",
    "    if (x >= 90):\n",
    "        return \"A\"\n",
    "    elif (x >= 80 and x < 90):\n",
    "        return \"B\"\n",
    "    elif (x >= 70 and x < 80):\n",
    "        return \"C\"\n",
    "    elif (x >= 65 and x < 70):\n",
    "        return \"D\"\n",
    "    return \"F\""
   ]
  },
  {
   "cell_type": "code",
   "execution_count": 19,
   "metadata": {},
   "outputs": [],
   "source": [
    "nums = (1, 8, 4, 5, 13, 26, 381, 410, 58, 47)\n",
    "chars = \"abcDeFGHiJinhOKim\"\n",
    "grades = (81, 89, 94, 78, 61, 66, 99, 74)"
   ]
  },
  {
   "cell_type": "markdown",
   "metadata": {},
   "source": [
    "**filter 함수는 특정 조건으로 걸러서 걸러진 요소들로 iterator 객체를 만들어서 리턴해준다.**"
   ]
  },
  {
   "cell_type": "code",
   "execution_count": 20,
   "metadata": {},
   "outputs": [
    {
     "name": "stdout",
     "output_type": "stream",
     "text": [
      "[1, 5, 13, 381, 47]\n"
     ]
    }
   ],
   "source": [
    "odds = list(filter(filterFunc, nums))\n",
    "print(odds)"
   ]
  },
  {
   "cell_type": "markdown",
   "metadata": {},
   "source": [
    "꼭 숫자가 아니어도 상관없다."
   ]
  },
  {
   "cell_type": "code",
   "execution_count": 21,
   "metadata": {},
   "outputs": [
    {
     "name": "stdout",
     "output_type": "stream",
     "text": [
      "['a', 'b', 'c', 'e', 'i', 'i', 'n', 'h', 'i', 'm']\n"
     ]
    }
   ],
   "source": [
    "lowers = list(filter(filterFunc2, chars))\n",
    "print(lowers)"
   ]
  },
  {
   "cell_type": "markdown",
   "metadata": {},
   "source": [
    "**map 함수는 반복가능한 iterable 객체를 받아서 각 요소에 함수를 적용해준다.**"
   ]
  },
  {
   "cell_type": "code",
   "execution_count": 22,
   "metadata": {},
   "outputs": [
    {
     "name": "stdout",
     "output_type": "stream",
     "text": [
      "[1, 64, 16, 25, 169, 676, 145161, 168100, 3364, 2209]\n",
      "['B', 'B', 'A', 'C', 'F', 'D', 'A', 'C']\n"
     ]
    }
   ],
   "source": [
    "squares = list(map(squareFunc, nums))\n",
    "print(squares)\n",
    "\n",
    "letters = list(map(toGrade, grades))\n",
    "print(letters)"
   ]
  },
  {
   "cell_type": "code",
   "execution_count": null,
   "metadata": {},
   "outputs": [],
   "source": []
  }
 ],
 "metadata": {
  "kernelspec": {
   "display_name": "Python 3",
   "language": "python",
   "name": "python3"
  },
  "language_info": {
   "codemirror_mode": {
    "name": "ipython",
    "version": 3
   },
   "file_extension": ".py",
   "mimetype": "text/x-python",
   "name": "python",
   "nbconvert_exporter": "python",
   "pygments_lexer": "ipython3",
   "version": "3.6.8"
  }
 },
 "nbformat": 4,
 "nbformat_minor": 2
}
