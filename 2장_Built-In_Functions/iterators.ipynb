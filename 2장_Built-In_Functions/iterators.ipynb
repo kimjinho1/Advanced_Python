{
 "cells": [
  {
   "cell_type": "markdown",
   "metadata": {},
   "source": [
    "### enumerate, zip, iter, next 같은 iterator 함수를 잘 사용하자!"
   ]
  },
  {
   "cell_type": "markdown",
   "metadata": {},
   "source": [
    "**next 함수를 사용할 때마다 iterator의 첫 번째, 두 번째, 세 번째 값이 출력된다.**"
   ]
  },
  {
   "cell_type": "code",
   "execution_count": 9,
   "metadata": {},
   "outputs": [
    {
     "name": "stdout",
     "output_type": "stream",
     "text": [
      "Sun\n",
      "Mon\n",
      "Tue\n"
     ]
    }
   ],
   "source": [
    "days = [\"Sun\", \"Mon\", \"Tue\", \"Wed\", \"Thu\", \"Fri\", \"Sat\"]\n",
    "daysFr = [\"Dim\", \"Lun\", \"Mar\", \"Mer\", \"Jeu\", \"Ven\", \"Sam\"]\n",
    "\n",
    "# iterable 객체: 반복 가능한 객체 \n",
    "# iterator 객체: 값을 차례대로 꺼낼 수 있는 객체 \n",
    "i = iter(days)\n",
    "print(next(i))  # Sun\n",
    "print(next(i))  # Mon\n",
    "print(next(i))  # Tue"
   ]
  },
  {
   "cell_type": "markdown",
   "metadata": {},
   "source": [
    "**인덱스를 출력하고 싶을 때는 enumerate 함수를 사용해주자.**"
   ]
  },
  {
   "cell_type": "code",
   "execution_count": 11,
   "metadata": {},
   "outputs": [
    {
     "name": "stdout",
     "output_type": "stream",
     "text": [
      "1 Sun\n",
      "2 Mon\n",
      "3 Tue\n",
      "4 Wed\n",
      "5 Thu\n",
      "6 Fri\n",
      "7 Sat\n"
     ]
    }
   ],
   "source": [
    "for m in range(len(days)):\n",
    "    print(m+1, days[m])\n",
    "    \n",
    "# 이렇게 짜지 말자!\n",
    "#for m in range(len(days)):\n",
    "#    print(m+1, days[m])"
   ]
  },
  {
   "cell_type": "markdown",
   "metadata": {},
   "source": [
    "**zip 함수는 말 그대로 2개를 하나로 압축해준다.**"
   ]
  },
  {
   "cell_type": "code",
   "execution_count": 13,
   "metadata": {
    "scrolled": true
   },
   "outputs": [
    {
     "name": "stdout",
     "output_type": "stream",
     "text": [
      "('Sun', 'Dim')\n",
      "('Mon', 'Lun')\n",
      "('Tue', 'Mar')\n",
      "('Wed', 'Mer')\n",
      "('Thu', 'Jeu')\n",
      "('Fri', 'Ven')\n",
      "('Sat', 'Sam')\n"
     ]
    }
   ],
   "source": [
    "for m in zip(days, daysFr):\n",
    "    print(m)"
   ]
  },
  {
   "cell_type": "markdown",
   "metadata": {},
   "source": [
    "**이런 식으로 zip과 enumerate 동시에 사용할 수도 있다.**"
   ]
  },
  {
   "cell_type": "code",
   "execution_count": 14,
   "metadata": {},
   "outputs": [
    {
     "name": "stdout",
     "output_type": "stream",
     "text": [
      "1 Sun = Dim in French\n",
      "2 Mon = Lun in French\n",
      "3 Tue = Mar in French\n",
      "4 Wed = Mer in French\n",
      "5 Thu = Jeu in French\n",
      "6 Fri = Ven in French\n",
      "7 Sat = Sam in French\n"
     ]
    }
   ],
   "source": [
    "for i, m in enumerate(zip(days, daysFr), start=1):\n",
    "    print(i, m[0], \"=\", m[1], \"in French\")"
   ]
  },
  {
   "cell_type": "code",
   "execution_count": null,
   "metadata": {},
   "outputs": [],
   "source": []
  }
 ],
 "metadata": {
  "kernelspec": {
   "display_name": "Python 3",
   "language": "python",
   "name": "python3"
  },
  "language_info": {
   "codemirror_mode": {
    "name": "ipython",
    "version": 3
   },
   "file_extension": ".py",
   "mimetype": "text/x-python",
   "name": "python",
   "nbconvert_exporter": "python",
   "pygments_lexer": "ipython3",
   "version": "3.6.8"
  }
 },
 "nbformat": 4,
 "nbformat_minor": 2
}
