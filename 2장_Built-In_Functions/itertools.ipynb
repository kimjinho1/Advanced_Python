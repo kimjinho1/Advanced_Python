{
 "cells": [
  {
   "cell_type": "code",
   "execution_count": 1,
   "metadata": {},
   "outputs": [],
   "source": [
    "import itertools"
   ]
  },
  {
   "cell_type": "code",
   "execution_count": 8,
   "metadata": {},
   "outputs": [],
   "source": [
    "def testFunction(x):\n",
    "    return x < 40"
   ]
  },
  {
   "cell_type": "markdown",
   "metadata": {},
   "source": [
    "**cycle 함수를 통해 리스트를 무한 반복자로 만들 수 있다.**"
   ]
  },
  {
   "cell_type": "code",
   "execution_count": 26,
   "metadata": {},
   "outputs": [
    {
     "name": "stdout",
     "output_type": "stream",
     "text": [
      "Joe\n",
      "John\n",
      "Mike\n",
      "Joe\n"
     ]
    }
   ],
   "source": [
    "seq1 = [\"Joe\", \"John\", \"Mike\"]\n",
    "cycle1 = itertools.cycle(seq1)\n",
    "print(next(cycle1))\n",
    "print(next(cycle1))\n",
    "print(next(cycle1))\n",
    "print(next(cycle1))"
   ]
  },
  {
   "cell_type": "markdown",
   "metadata": {},
   "source": [
    "**count 함수를 통해 간단한 카운터를 만들 수 있다.**"
   ]
  },
  {
   "cell_type": "code",
   "execution_count": 27,
   "metadata": {},
   "outputs": [
    {
     "name": "stdout",
     "output_type": "stream",
     "text": [
      "100\n",
      "110\n",
      "120\n"
     ]
    }
   ],
   "source": [
    "count1 = itertools.count(100, 10)\n",
    "print(next(count1))\n",
    "print(next(count1))\n",
    "print(next(count1))"
   ]
  },
  {
   "cell_type": "markdown",
   "metadata": {},
   "source": [
    "**accumulate 함수는 리스트의 누적값이 담긴 리스트를 만들어준다.**"
   ]
  },
  {
   "cell_type": "code",
   "execution_count": 31,
   "metadata": {},
   "outputs": [
    {
     "name": "stdout",
     "output_type": "stream",
     "text": [
      "[10, 30, 60, 100, 150, 190, 220]\n"
     ]
    }
   ],
   "source": [
    "vals = [10,20,30,40,50,40,30]\n",
    "acc = itertools.accumulate(vals)\n",
    "print(list(acc))"
   ]
  },
  {
   "cell_type": "markdown",
   "metadata": {},
   "source": [
    "인자로 max를 줌으로써 범위 내 최대값이 담긴 리스트를 만들 수도 있다."
   ]
  },
  {
   "cell_type": "code",
   "execution_count": null,
   "metadata": {},
   "outputs": [],
   "source": [
    "acc = itertools.accumulate(vals, max)\n",
    "print(list(acc))"
   ]
  },
  {
   "cell_type": "markdown",
   "metadata": {},
   "source": [
    "**chain 함수는 리스트들을 하나로 연결해준다.**"
   ]
  },
  {
   "cell_type": "code",
   "execution_count": 29,
   "metadata": {},
   "outputs": [
    {
     "name": "stdout",
     "output_type": "stream",
     "text": [
      "['A', 'B', 'C', 'D', '1', '2', '3', '4']\n"
     ]
    }
   ],
   "source": [
    "x = itertools.chain(\"ABCD\", \"1234\")\n",
    "print(list(x))"
   ]
  },
  {
   "cell_type": "markdown",
   "metadata": {},
   "source": [
    "**dropwhile 함수는 조건에 맞지 않는 요소들로 리스트로 만들어 주고  \n",
    "takewhile 함수는 조건에 맞는 요소들로 리스트로 만들어 준다.**"
   ]
  },
  {
   "cell_type": "code",
   "execution_count": 30,
   "metadata": {},
   "outputs": [
    {
     "name": "stdout",
     "output_type": "stream",
     "text": [
      "[40, 50, 40, 30]\n",
      "[10, 20, 30]\n"
     ]
    }
   ],
   "source": [
    "print(list(itertools.dropwhile(testFunction, vals)))\n",
    "print(list(itertools.takewhile(testFunction, vals)))"
   ]
  },
  {
   "cell_type": "code",
   "execution_count": null,
   "metadata": {},
   "outputs": [],
   "source": []
  }
 ],
 "metadata": {
  "kernelspec": {
   "display_name": "Python 3",
   "language": "python",
   "name": "python3"
  },
  "language_info": {
   "codemirror_mode": {
    "name": "ipython",
    "version": 3
   },
   "file_extension": ".py",
   "mimetype": "text/x-python",
   "name": "python",
   "nbconvert_exporter": "python",
   "pygments_lexer": "ipython3",
   "version": "3.6.8"
  }
 },
 "nbformat": 4,
 "nbformat_minor": 2
}
